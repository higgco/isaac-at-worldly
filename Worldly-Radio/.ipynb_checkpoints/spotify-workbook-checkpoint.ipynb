{
 "cells": [
  {
   "cell_type": "code",
   "execution_count": 3,
   "id": "03ed7310-1165-498d-acdc-daeea27428c7",
   "metadata": {},
   "outputs": [
    {
     "name": "stdout",
     "output_type": "stream",
     "text": [
      "Connected as: 124101558\n"
     ]
    }
   ],
   "source": [
    "import spotipy\n",
    "from spotipy.oauth2 import SpotifyOAuth\n",
    "\n",
    "# Set up authentication\n",
    "sp = spotipy.Spotify(auth_manager=SpotifyOAuth(\n",
    "    client_id=\"xxx\",\n",
    "    client_secret=\"xxx\",\n",
    "    redirect_uri=\"http://localhost:5000/callback\",\n",
    "    scope=\"playlist-read-private\"  # Adjust scope if needed\n",
    "))\n",
    "\n",
    "# Get your user ID\n",
    "user_id = sp.me()[\"id\"]\n",
    "print(f\"Connected as: {user_id}\")"
   ]
  },
  {
   "cell_type": "code",
   "execution_count": 5,
   "id": "ff1ac40a-74f4-4ae8-b8b0-093e5905db06",
   "metadata": {},
   "outputs": [
    {
     "name": "stdout",
     "output_type": "stream",
     "text": [
      "Drawing Forever - 2UgFcwSyiHs8FJp6OUcEl1\n",
      "WCF24 - Afternoon - 2B0QNFVSLTRbDeVnnw9w9M\n",
      "WCF24 - Morning - 0beLzCwipRqG57QS7EbUzA\n",
      "Worldly's 5-Year Anniversary - 7Mhr5RBK1QvtwN2dxT1h0u\n",
      "boys trip - 56kstIdIozYXHfbKUs2e7q\n",
      "Groovy chill - 5YGjGSYTOuL3MOSvcmB5ga\n",
      "Christmas Bangers - 4MJGytDEAphVmYEpEdJWhl\n",
      "Worldly Holiday Party - 7sR7Fq0DgU42dySAb64SXC\n",
      "JazzMe - 11alPc1VUavUmfzrraugKh\n",
      "okokok - 6HnUx4uNQsTqZ1xfaeN5BM\n",
      "only the (11/20/23) bangers - 2fXcxtSjYuvAZxnoDGqaN9\n",
      "shower - 7A4botgTjmk8yphyDW2MgA\n",
      "transitions - 61eCjodJpWJCnSAE1hIuZ3\n",
      "Some Dance - 0idctPVgSoYjHSUhPwpQGT\n",
      "My playlist #175 - 4t3XfGrq6W4hxXdUcXrb9b\n",
      "Little Simz setlist 2023 - 7FLGsreh1xppqWjhRH4xep\n",
      "Jamie XX Setlist 2023 - 2nH5JNHuPfuItdLtXGDOXn\n",
      "2023 Concerts - 7CQH6rG2xOCuJ1vXBS2dQq\n",
      "Wu Tang Clan Setlist 2023 - 2GpF4E4sdVzNCK1H2iEuPK\n",
      "death grips setlist 2023 - 10pEzMYaFR48ETXBlec3Gk\n",
      "Electronic Landscapes - 3RsvbRXr1tK32N5RlXHzpX\n",
      "Dance Off - 0vPWAxn8OACrCLGTsLg125\n",
      "Instrumental Hip Hop - 2uayQ2c0ys3vg5zDpycIDv\n",
      "the goats of rnb rap - 62UAlNRnJifYOl6gZq9ONl\n",
      "Muerte - 6N7XBAN8K16fDuqxyvk3zF\n",
      "Anna and Haven’s Big Fat Greek Wedding - 7c1sTzhtNVUreLtQI5xXbY\n",
      "ROAD TRIP 2023 LFG - 70kHiRj3xCceeZ8rrcj1kz\n",
      "Worldly Radio - 0NngAfJkaHCW5yn9jWIIcY\n",
      "KUAF Vinyl Hour - 41PQWNf5XSn1hHp0GhqkmV\n",
      "MM...DONUTS - 5oCej6AZGDg1w6Ah60dOvE\n",
      "ACP Energy - 5P4wNOnBD9P3RgaAdTh5uv\n",
      "ACP Psych - 48EJK4H0brgXEjSQ4H0zEb\n",
      "ACP Acoustic - 2IUCY2J6sZyBqCNS9aX20r\n",
      "ACP Folk & Americana - 3AWa12phTX9h9QgVFpD0I8\n",
      "ACP Afrobeat - 5MvbzDhc8ApexVdVLm8sk4\n",
      "ACP Jazzy Afternoon - 0Gl7AFIPPQ3jxNygB9M9zn\n",
      "ACP Hip-Hop Evening - 6Dw7YQmRS6b9zM1ZeON8Hc\n",
      "ACP Jazzy Morning - 0wtcufF1YCmqryLQIWtR4Z\n",
      "ACP R&B&Co. Morning - 0HIeqFz56ZLNszEWtVIWPN\n",
      "party - 0a9T0QB5rNP2qoQXNYLV01\n",
      "Infinity Repeating (2013 Demo) [feat. Julian Casablancas+The Voidz] - 6IeOcTqLqPHNuZfLMXNYP1\n",
      "french records - 5Q9sFvCgNQuJiw3vFyfNIn\n",
      "songs to sample - 27NPEtnq0wnOpe9f16PVrl\n",
      "morning music - 6TT0eNi10lUgzF8RVDNSHk\n",
      "Love Like a Sunset, Pt. 1 - 2AqESA4VU01mQP4x8eWLnT\n",
      "I missed you so bad - 7zRuB9OGbIP0B0SvqgGJlE\n",
      "Moonbeam - 0pEknbBP37ZoVwkKQ8mNmn\n",
      "☁️🚬🤏😎✌️🥦 - 2rMTrDsiJ1jlSq0pAMc7ev\n",
      "Cool Breeze - 0vqbI0X605RAmkkRNQynmt\n",
      "One Thing Left to Try - 54HRLC9EniQyZdjUBhCQs3\n"
     ]
    }
   ],
   "source": [
    "playlists = sp.current_user_playlists()\n",
    "for playlist in playlists[\"items\"]:\n",
    "    print(f\"{playlist['name']} - {playlist['id']}\")"
   ]
  },
  {
   "cell_type": "code",
   "execution_count": null,
   "id": "4d73259d-bdaa-4b47-90fe-0f5d71d0860b",
   "metadata": {},
   "outputs": [],
   "source": [
    "import requests\n",
    "\n",
    "# Replace with your access token\n",
    "ACCESS_TOKEN = \"your_access_token_here\"\n",
    "PLAYLIST_ID = \"your_playlist_id_here\"\n",
    "\n",
    "def get_playlist_tracks(playlist_id):\n",
    "    url = f\"https://api.spotify.com/v1/playlists/{playlist_id}/tracks\"\n",
    "    headers = {\"Authorization\": f\"Bearer {ACCESS_TOKEN}\"}\n",
    "    \n",
    "    all_tracks = []\n",
    "    while url:\n",
    "        response = requests.get(url, headers=headers)\n",
    "        data = response.json()\n",
    "        \n",
    "        for item in data['items']:\n",
    "            track = item['track']\n",
    "            all_tracks.append(track['name'])  # You can extract more details if needed\n",
    "        \n",
    "        url = data.get('next')  # Get next page if available\n",
    "    \n",
    "    return all_tracks\n",
    "\n",
    "# Get all tracks\n",
    "tracks = get_playlist_tracks(PLAYLIST_ID)\n",
    "print(tracks)"
   ]
  }
 ],
 "metadata": {
  "kernelspec": {
   "display_name": "Python [conda env:base] *",
   "language": "python",
   "name": "conda-base-py"
  },
  "language_info": {
   "codemirror_mode": {
    "name": "ipython",
    "version": 3
   },
   "file_extension": ".py",
   "mimetype": "text/x-python",
   "name": "python",
   "nbconvert_exporter": "python",
   "pygments_lexer": "ipython3",
   "version": "3.12.7"
  }
 },
 "nbformat": 4,
 "nbformat_minor": 5
}
