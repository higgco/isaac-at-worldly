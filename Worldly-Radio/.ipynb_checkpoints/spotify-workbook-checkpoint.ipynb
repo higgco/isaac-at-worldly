{
 "cells": [
  {
   "cell_type": "code",
   "execution_count": 1,
   "id": "03ed7310-1165-498d-acdc-daeea27428c7",
   "metadata": {},
   "outputs": [
    {
     "ename": "ValueError",
     "evalue": "Missing Spotify API credentials. Set SPOTIFY_CLIENT_ID and SPOTIFY_CLIENT_SECRET as environment variables.",
     "output_type": "error",
     "traceback": [
      "\u001b[0;31m---------------------------------------------------------------------------\u001b[0m",
      "\u001b[0;31mValueError\u001b[0m                                Traceback (most recent call last)",
      "Cell \u001b[0;32mIn[1], line 11\u001b[0m\n\u001b[1;32m      9\u001b[0m \u001b[38;5;66;03m# Ensure credentials are set\u001b[39;00m\n\u001b[1;32m     10\u001b[0m \u001b[38;5;28;01mif\u001b[39;00m \u001b[38;5;129;01mnot\u001b[39;00m CLIENT_ID \u001b[38;5;129;01mor\u001b[39;00m \u001b[38;5;129;01mnot\u001b[39;00m CLIENT_SECRET:\n\u001b[0;32m---> 11\u001b[0m     \u001b[38;5;28;01mraise\u001b[39;00m \u001b[38;5;167;01mValueError\u001b[39;00m(\u001b[38;5;124m\"\u001b[39m\u001b[38;5;124mMissing Spotify API credentials. Set SPOTIFY_CLIENT_ID and SPOTIFY_CLIENT_SECRET as environment variables.\u001b[39m\u001b[38;5;124m\"\u001b[39m)\n\u001b[1;32m     13\u001b[0m \u001b[38;5;66;03m# Set up authentication\u001b[39;00m\n\u001b[1;32m     14\u001b[0m sp \u001b[38;5;241m=\u001b[39m spotipy\u001b[38;5;241m.\u001b[39mSpotify(auth_manager\u001b[38;5;241m=\u001b[39mSpotifyOAuth(\n\u001b[1;32m     15\u001b[0m     client_id\u001b[38;5;241m=\u001b[39mCLIENT_ID,\n\u001b[1;32m     16\u001b[0m     client_secret\u001b[38;5;241m=\u001b[39mCLIENT_SECRET,\n\u001b[1;32m     17\u001b[0m     redirect_uri\u001b[38;5;241m=\u001b[39m\u001b[38;5;124m\"\u001b[39m\u001b[38;5;124mhttp://localhost:5000/callback\u001b[39m\u001b[38;5;124m\"\u001b[39m,\n\u001b[1;32m     18\u001b[0m     scope\u001b[38;5;241m=\u001b[39m\u001b[38;5;124m\"\u001b[39m\u001b[38;5;124mplaylist-read-private\u001b[39m\u001b[38;5;124m\"\u001b[39m\n\u001b[1;32m     19\u001b[0m ))\n",
      "\u001b[0;31mValueError\u001b[0m: Missing Spotify API credentials. Set SPOTIFY_CLIENT_ID and SPOTIFY_CLIENT_SECRET as environment variables."
     ]
    }
   ],
   "source": [
    "import spotipy\n",
    "import os\n",
    "from spotipy.oauth2 import SpotifyOAuth\n",
    "from dotenv import load_dotenv\n",
    "import os\n",
    "\n",
    "# Load environment variables from .env\n",
    "load_dotenv()\n",
    "\n",
    "# Get credentials\n",
    "CLIENT_ID = os.getenv(\"SPOTIFY_CLIENT_ID\")\n",
    "CLIENT_SECRET = os.getenv(\"SPOTIFY_CLIENT_SECRET\")\n",
    "\n",
    "# Check if variables were loaded correctly\n",
    "if not CLIENT_ID or not CLIENT_SECRET:\n",
    "    raise ValueError(\"Missing Spotify API credentials. Check your .env file.\")\n",
    "\n",
    "print(\"Spotify credentials loaded successfully!\")\n",
    "\n",
    "# Ensure credentials are set\n",
    "if not CLIENT_ID or not CLIENT_SECRET:\n",
    "    raise ValueError(\"Missing Spotify API credentials. Set SPOTIFY_CLIENT_ID and SPOTIFY_CLIENT_SECRET as environment variables.\")\n",
    "\n",
    "# Set up authentication\n",
    "sp = spotipy.Spotify(auth_manager=SpotifyOAuth(\n",
    "    client_id=CLIENT_ID,\n",
    "    client_secret=CLIENT_SECRET,\n",
    "    redirect_uri=\"http://localhost:5000/callback\",\n",
    "    scope=\"playlist-read-private\"\n",
    "))\n",
    "\n",
    "# Get your user ID\n",
    "user_id = sp.me()[\"id\"]\n",
    "print(f\"Connected as: {user_id}\")"
   ]
  },
  {
   "cell_type": "code",
   "execution_count": 8,
   "id": "ff1ac40a-74f4-4ae8-b8b0-093e5905db06",
   "metadata": {},
   "outputs": [
    {
     "ename": "SpotifyOauthError",
     "evalue": "error: invalid_client, error_description: Invalid client",
     "output_type": "error",
     "traceback": [
      "\u001b[0;31m---------------------------------------------------------------------------\u001b[0m",
      "\u001b[0;31mHTTPError\u001b[0m                                 Traceback (most recent call last)",
      "File \u001b[0;32m/opt/anaconda3/lib/python3.12/site-packages/spotipy/oauth2.py:560\u001b[0m, in \u001b[0;36mSpotifyOAuth.refresh_access_token\u001b[0;34m(self, refresh_token)\u001b[0m\n\u001b[1;32m    553\u001b[0m response \u001b[38;5;241m=\u001b[39m \u001b[38;5;28mself\u001b[39m\u001b[38;5;241m.\u001b[39m_session\u001b[38;5;241m.\u001b[39mpost(\n\u001b[1;32m    554\u001b[0m     \u001b[38;5;28mself\u001b[39m\u001b[38;5;241m.\u001b[39mOAUTH_TOKEN_URL,\n\u001b[1;32m    555\u001b[0m     data\u001b[38;5;241m=\u001b[39mpayload,\n\u001b[0;32m   (...)\u001b[0m\n\u001b[1;32m    558\u001b[0m     timeout\u001b[38;5;241m=\u001b[39m\u001b[38;5;28mself\u001b[39m\u001b[38;5;241m.\u001b[39mrequests_timeout,\n\u001b[1;32m    559\u001b[0m )\n\u001b[0;32m--> 560\u001b[0m response\u001b[38;5;241m.\u001b[39mraise_for_status()\n\u001b[1;32m    561\u001b[0m token_info \u001b[38;5;241m=\u001b[39m response\u001b[38;5;241m.\u001b[39mjson()\n",
      "File \u001b[0;32m/opt/anaconda3/lib/python3.12/site-packages/requests/models.py:1024\u001b[0m, in \u001b[0;36mResponse.raise_for_status\u001b[0;34m(self)\u001b[0m\n\u001b[1;32m   1023\u001b[0m \u001b[38;5;28;01mif\u001b[39;00m http_error_msg:\n\u001b[0;32m-> 1024\u001b[0m     \u001b[38;5;28;01mraise\u001b[39;00m HTTPError(http_error_msg, response\u001b[38;5;241m=\u001b[39m\u001b[38;5;28mself\u001b[39m)\n",
      "\u001b[0;31mHTTPError\u001b[0m: 400 Client Error: Bad Request for url: https://accounts.spotify.com/api/token",
      "\nDuring handling of the above exception, another exception occurred:\n",
      "\u001b[0;31mSpotifyOauthError\u001b[0m                         Traceback (most recent call last)",
      "Cell \u001b[0;32mIn[8], line 1\u001b[0m\n\u001b[0;32m----> 1\u001b[0m playlists \u001b[38;5;241m=\u001b[39m sp\u001b[38;5;241m.\u001b[39mcurrent_user_playlists()\n\u001b[1;32m      2\u001b[0m \u001b[38;5;28;01mfor\u001b[39;00m playlist \u001b[38;5;129;01min\u001b[39;00m playlists[\u001b[38;5;124m\"\u001b[39m\u001b[38;5;124mitems\u001b[39m\u001b[38;5;124m\"\u001b[39m]:\n\u001b[1;32m      3\u001b[0m     \u001b[38;5;28mprint\u001b[39m(\u001b[38;5;124mf\u001b[39m\u001b[38;5;124m\"\u001b[39m\u001b[38;5;132;01m{\u001b[39;00mplaylist[\u001b[38;5;124m'\u001b[39m\u001b[38;5;124mname\u001b[39m\u001b[38;5;124m'\u001b[39m]\u001b[38;5;132;01m}\u001b[39;00m\u001b[38;5;124m - \u001b[39m\u001b[38;5;132;01m{\u001b[39;00mplaylist[\u001b[38;5;124m'\u001b[39m\u001b[38;5;124mid\u001b[39m\u001b[38;5;124m'\u001b[39m]\u001b[38;5;132;01m}\u001b[39;00m\u001b[38;5;124m\"\u001b[39m)\n",
      "File \u001b[0;32m/opt/anaconda3/lib/python3.12/site-packages/spotipy/client.py:654\u001b[0m, in \u001b[0;36mSpotify.current_user_playlists\u001b[0;34m(self, limit, offset)\u001b[0m\n\u001b[1;32m    648\u001b[0m \u001b[38;5;28;01mdef\u001b[39;00m \u001b[38;5;21mcurrent_user_playlists\u001b[39m(\u001b[38;5;28mself\u001b[39m, limit\u001b[38;5;241m=\u001b[39m\u001b[38;5;241m50\u001b[39m, offset\u001b[38;5;241m=\u001b[39m\u001b[38;5;241m0\u001b[39m):\n\u001b[1;32m    649\u001b[0m \u001b[38;5;250m    \u001b[39m\u001b[38;5;124;03m\"\"\" Get current user playlists without required getting his profile\u001b[39;00m\n\u001b[1;32m    650\u001b[0m \u001b[38;5;124;03m        Parameters:\u001b[39;00m\n\u001b[1;32m    651\u001b[0m \u001b[38;5;124;03m            - limit  - the number of items to return\u001b[39;00m\n\u001b[1;32m    652\u001b[0m \u001b[38;5;124;03m            - offset - the index of the first item to return\u001b[39;00m\n\u001b[1;32m    653\u001b[0m \u001b[38;5;124;03m    \"\"\"\u001b[39;00m\n\u001b[0;32m--> 654\u001b[0m     \u001b[38;5;28;01mreturn\u001b[39;00m \u001b[38;5;28mself\u001b[39m\u001b[38;5;241m.\u001b[39m_get(\u001b[38;5;124m\"\u001b[39m\u001b[38;5;124mme/playlists\u001b[39m\u001b[38;5;124m\"\u001b[39m, limit\u001b[38;5;241m=\u001b[39mlimit, offset\u001b[38;5;241m=\u001b[39moffset)\n",
      "File \u001b[0;32m/opt/anaconda3/lib/python3.12/site-packages/spotipy/client.py:324\u001b[0m, in \u001b[0;36mSpotify._get\u001b[0;34m(self, url, args, payload, **kwargs)\u001b[0m\n\u001b[1;32m    321\u001b[0m \u001b[38;5;28;01mif\u001b[39;00m args:\n\u001b[1;32m    322\u001b[0m     kwargs\u001b[38;5;241m.\u001b[39mupdate(args)\n\u001b[0;32m--> 324\u001b[0m \u001b[38;5;28;01mreturn\u001b[39;00m \u001b[38;5;28mself\u001b[39m\u001b[38;5;241m.\u001b[39m_internal_call(\u001b[38;5;124m\"\u001b[39m\u001b[38;5;124mGET\u001b[39m\u001b[38;5;124m\"\u001b[39m, url, payload, kwargs)\n",
      "File \u001b[0;32m/opt/anaconda3/lib/python3.12/site-packages/spotipy/client.py:250\u001b[0m, in \u001b[0;36mSpotify._internal_call\u001b[0;34m(self, method, url, payload, params)\u001b[0m\n\u001b[1;32m    248\u001b[0m \u001b[38;5;28;01mif\u001b[39;00m \u001b[38;5;129;01mnot\u001b[39;00m url\u001b[38;5;241m.\u001b[39mstartswith(\u001b[38;5;124m\"\u001b[39m\u001b[38;5;124mhttp\u001b[39m\u001b[38;5;124m\"\u001b[39m):\n\u001b[1;32m    249\u001b[0m     url \u001b[38;5;241m=\u001b[39m \u001b[38;5;28mself\u001b[39m\u001b[38;5;241m.\u001b[39mprefix \u001b[38;5;241m+\u001b[39m url\n\u001b[0;32m--> 250\u001b[0m headers \u001b[38;5;241m=\u001b[39m \u001b[38;5;28mself\u001b[39m\u001b[38;5;241m.\u001b[39m_auth_headers()\n\u001b[1;32m    252\u001b[0m \u001b[38;5;28;01mif\u001b[39;00m \u001b[38;5;124m\"\u001b[39m\u001b[38;5;124mcontent_type\u001b[39m\u001b[38;5;124m\"\u001b[39m \u001b[38;5;129;01min\u001b[39;00m args[\u001b[38;5;124m\"\u001b[39m\u001b[38;5;124mparams\u001b[39m\u001b[38;5;124m\"\u001b[39m]:\n\u001b[1;32m    253\u001b[0m     headers[\u001b[38;5;124m\"\u001b[39m\u001b[38;5;124mContent-Type\u001b[39m\u001b[38;5;124m\"\u001b[39m] \u001b[38;5;241m=\u001b[39m args[\u001b[38;5;124m\"\u001b[39m\u001b[38;5;124mparams\u001b[39m\u001b[38;5;124m\"\u001b[39m][\u001b[38;5;124m\"\u001b[39m\u001b[38;5;124mcontent_type\u001b[39m\u001b[38;5;124m\"\u001b[39m]\n",
      "File \u001b[0;32m/opt/anaconda3/lib/python3.12/site-packages/spotipy/client.py:241\u001b[0m, in \u001b[0;36mSpotify._auth_headers\u001b[0;34m(self)\u001b[0m\n\u001b[1;32m    239\u001b[0m     \u001b[38;5;28;01mreturn\u001b[39;00m {}\n\u001b[1;32m    240\u001b[0m \u001b[38;5;28;01mtry\u001b[39;00m:\n\u001b[0;32m--> 241\u001b[0m     token \u001b[38;5;241m=\u001b[39m \u001b[38;5;28mself\u001b[39m\u001b[38;5;241m.\u001b[39mauth_manager\u001b[38;5;241m.\u001b[39mget_access_token(as_dict\u001b[38;5;241m=\u001b[39m\u001b[38;5;28;01mFalse\u001b[39;00m)\n\u001b[1;32m    242\u001b[0m \u001b[38;5;28;01mexcept\u001b[39;00m \u001b[38;5;167;01mTypeError\u001b[39;00m:\n\u001b[1;32m    243\u001b[0m     token \u001b[38;5;241m=\u001b[39m \u001b[38;5;28mself\u001b[39m\u001b[38;5;241m.\u001b[39mauth_manager\u001b[38;5;241m.\u001b[39mget_access_token()\n",
      "File \u001b[0;32m/opt/anaconda3/lib/python3.12/site-packages/spotipy/oauth2.py:501\u001b[0m, in \u001b[0;36mSpotifyOAuth.get_access_token\u001b[0;34m(self, code, as_dict, check_cache)\u001b[0m\n\u001b[1;32m    492\u001b[0m     warnings\u001b[38;5;241m.\u001b[39mwarn(\n\u001b[1;32m    493\u001b[0m         \u001b[38;5;124m\"\u001b[39m\u001b[38;5;124mYou\u001b[39m\u001b[38;5;124m'\u001b[39m\u001b[38;5;124mre using \u001b[39m\u001b[38;5;124m'\u001b[39m\u001b[38;5;124mas_dict = True\u001b[39m\u001b[38;5;124m'\u001b[39m\u001b[38;5;124m.\u001b[39m\u001b[38;5;124m\"\u001b[39m\n\u001b[1;32m    494\u001b[0m         \u001b[38;5;124m\"\u001b[39m\u001b[38;5;124mget_access_token will return the token string directly in future \u001b[39m\u001b[38;5;124m\"\u001b[39m\n\u001b[0;32m   (...)\u001b[0m\n\u001b[1;32m    498\u001b[0m         stacklevel\u001b[38;5;241m=\u001b[39m\u001b[38;5;241m2\u001b[39m,\n\u001b[1;32m    499\u001b[0m     )\n\u001b[1;32m    500\u001b[0m \u001b[38;5;28;01mif\u001b[39;00m check_cache:\n\u001b[0;32m--> 501\u001b[0m     token_info \u001b[38;5;241m=\u001b[39m \u001b[38;5;28mself\u001b[39m\u001b[38;5;241m.\u001b[39mvalidate_token(\u001b[38;5;28mself\u001b[39m\u001b[38;5;241m.\u001b[39mcache_handler\u001b[38;5;241m.\u001b[39mget_cached_token())\n\u001b[1;32m    502\u001b[0m     \u001b[38;5;28;01mif\u001b[39;00m token_info \u001b[38;5;129;01mis\u001b[39;00m \u001b[38;5;129;01mnot\u001b[39;00m \u001b[38;5;28;01mNone\u001b[39;00m:\n\u001b[1;32m    503\u001b[0m         \u001b[38;5;28;01mif\u001b[39;00m \u001b[38;5;28mself\u001b[39m\u001b[38;5;241m.\u001b[39mis_token_expired(token_info):\n",
      "File \u001b[0;32m/opt/anaconda3/lib/python3.12/site-packages/spotipy/oauth2.py:347\u001b[0m, in \u001b[0;36mSpotifyOAuth.validate_token\u001b[0;34m(self, token_info)\u001b[0m\n\u001b[1;32m    344\u001b[0m     \u001b[38;5;28;01mreturn\u001b[39;00m \u001b[38;5;28;01mNone\u001b[39;00m\n\u001b[1;32m    346\u001b[0m \u001b[38;5;28;01mif\u001b[39;00m \u001b[38;5;28mself\u001b[39m\u001b[38;5;241m.\u001b[39mis_token_expired(token_info):\n\u001b[0;32m--> 347\u001b[0m     token_info \u001b[38;5;241m=\u001b[39m \u001b[38;5;28mself\u001b[39m\u001b[38;5;241m.\u001b[39mrefresh_access_token(\n\u001b[1;32m    348\u001b[0m         token_info[\u001b[38;5;124m\"\u001b[39m\u001b[38;5;124mrefresh_token\u001b[39m\u001b[38;5;124m\"\u001b[39m]\n\u001b[1;32m    349\u001b[0m     )\n\u001b[1;32m    351\u001b[0m \u001b[38;5;28;01mreturn\u001b[39;00m token_info\n",
      "File \u001b[0;32m/opt/anaconda3/lib/python3.12/site-packages/spotipy/oauth2.py:568\u001b[0m, in \u001b[0;36mSpotifyOAuth.refresh_access_token\u001b[0;34m(self, refresh_token)\u001b[0m\n\u001b[1;32m    566\u001b[0m     \u001b[38;5;28;01mreturn\u001b[39;00m token_info\n\u001b[1;32m    567\u001b[0m \u001b[38;5;28;01mexcept\u001b[39;00m requests\u001b[38;5;241m.\u001b[39mexceptions\u001b[38;5;241m.\u001b[39mHTTPError \u001b[38;5;28;01mas\u001b[39;00m http_error:\n\u001b[0;32m--> 568\u001b[0m     \u001b[38;5;28mself\u001b[39m\u001b[38;5;241m.\u001b[39m_handle_oauth_error(http_error)\n",
      "File \u001b[0;32m/opt/anaconda3/lib/python3.12/site-packages/spotipy/oauth2.py:117\u001b[0m, in \u001b[0;36mSpotifyAuthBase._handle_oauth_error\u001b[0;34m(self, http_error)\u001b[0m\n\u001b[1;32m    114\u001b[0m     error \u001b[38;5;241m=\u001b[39m response\u001b[38;5;241m.\u001b[39mtext \u001b[38;5;129;01mor\u001b[39;00m \u001b[38;5;28;01mNone\u001b[39;00m\n\u001b[1;32m    115\u001b[0m     error_description \u001b[38;5;241m=\u001b[39m \u001b[38;5;28;01mNone\u001b[39;00m\n\u001b[0;32m--> 117\u001b[0m \u001b[38;5;28;01mraise\u001b[39;00m SpotifyOauthError(\n\u001b[1;32m    118\u001b[0m     \u001b[38;5;124mf\u001b[39m\u001b[38;5;124m'\u001b[39m\u001b[38;5;124merror: \u001b[39m\u001b[38;5;132;01m{\u001b[39;00merror\u001b[38;5;132;01m}\u001b[39;00m\u001b[38;5;124m, error_description: \u001b[39m\u001b[38;5;132;01m{\u001b[39;00merror_description\u001b[38;5;132;01m}\u001b[39;00m\u001b[38;5;124m'\u001b[39m,\n\u001b[1;32m    119\u001b[0m     error\u001b[38;5;241m=\u001b[39merror,\n\u001b[1;32m    120\u001b[0m     error_description\u001b[38;5;241m=\u001b[39merror_description\n\u001b[1;32m    121\u001b[0m )\n",
      "\u001b[0;31mSpotifyOauthError\u001b[0m: error: invalid_client, error_description: Invalid client"
     ]
    }
   ],
   "source": [
    "playlists = sp.current_user_playlists()\n",
    "for playlist in playlists[\"items\"]:\n",
    "    print(f\"{playlist['name']} - {playlist['id']}\")"
   ]
  },
  {
   "cell_type": "code",
   "execution_count": null,
   "id": "4d73259d-bdaa-4b47-90fe-0f5d71d0860b",
   "metadata": {},
   "outputs": [],
   "source": [
    "import requests\n",
    "\n",
    "# Replace with your access token\n",
    "ACCESS_TOKEN = \"your_access_token_here\"\n",
    "PLAYLIST_ID = \"your_playlist_id_here\"\n",
    "\n",
    "def get_playlist_tracks(playlist_id):\n",
    "    url = f\"https://api.spotify.com/v1/playlists/{playlist_id}/tracks\"\n",
    "    headers = {\"Authorization\": f\"Bearer {ACCESS_TOKEN}\"}\n",
    "    \n",
    "    all_tracks = []\n",
    "    while url:\n",
    "        response = requests.get(url, headers=headers)\n",
    "        data = response.json()\n",
    "        \n",
    "        for item in data['items']:\n",
    "            track = item['track']\n",
    "            all_tracks.append(track['name'])  # You can extract more details if needed\n",
    "        \n",
    "        url = data.get('next')  # Get next page if available\n",
    "    \n",
    "    return all_tracks\n",
    "\n",
    "# Get all tracks\n",
    "tracks = get_playlist_tracks(PLAYLIST_ID)\n",
    "print(tracks)"
   ]
  }
 ],
 "metadata": {
  "kernelspec": {
   "display_name": "Python [conda env:base] *",
   "language": "python",
   "name": "conda-base-py"
  },
  "language_info": {
   "codemirror_mode": {
    "name": "ipython",
    "version": 3
   },
   "file_extension": ".py",
   "mimetype": "text/x-python",
   "name": "python",
   "nbconvert_exporter": "python",
   "pygments_lexer": "ipython3",
   "version": "3.12.7"
  }
 },
 "nbformat": 4,
 "nbformat_minor": 5
}
