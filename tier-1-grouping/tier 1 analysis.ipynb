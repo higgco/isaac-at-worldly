{
 "cells": [
  {
   "cell_type": "markdown",
   "metadata": {},
   "source": [
    "# Tier 1 Analysis - Clean Version\n",
    "\n",
    "## Setup Instructions\n",
    "1. **Install dependencies**: `pip install -r requirements.txt`\n",
    "2. **Create .env file** with your database credentials\n",
    "3. **Run cells in order**\n",
    "\n",
    "## .env File Format\n",
    "```env\n",
    "DB_USER=your_username\n",
    "DB_PASSWORD=your_password\n",
    "DB_HOST=wg-data-rds.data.higg.org\n",
    "DB_PORT=5432\n",
    "DB_NAME=db_higg\n",
    "```"
   ]
  },
  {
   "cell_type": "code",
   "execution_count": 30,
   "metadata": {},
   "outputs": [
    {
     "name": "stdout",
     "output_type": "stream",
     "text": [
      "✅ Connected to: wg-data-rds.data.higg.org:5432/db_higg\n",
      "✅ Environment variables loaded successfully!\n"
     ]
    }
   ],
   "source": [
    "# Setup: Import libraries and load environment variables\n",
    "import pandas as pd\n",
    "import psycopg2\n",
    "from sqlalchemy import create_engine, text\n",
    "import os\n",
    "from dotenv import load_dotenv\n",
    "\n",
    "# Load environment variables\n",
    "load_dotenv()\n",
    "\n",
    "# Create connection string\n",
    "DB_USER = os.getenv('DB_USER')\n",
    "DB_PASSWORD = os.getenv('DB_PASSWORD')\n",
    "DB_HOST = os.getenv('DB_HOST')\n",
    "DB_PORT = os.getenv('DB_PORT')\n",
    "DB_NAME = os.getenv('DB_NAME')\n",
    "\n",
    "connection_string = f\"postgresql+psycopg2://{DB_USER}:{DB_PASSWORD}@{DB_HOST}:{DB_PORT}/{DB_NAME}\"\n",
    "\n",
    "print(f\"✅ Connected to: {DB_HOST}:{DB_PORT}/{DB_NAME}\")\n",
    "print(\"✅ Environment variables loaded successfully!\")"
   ]
  },
  {
   "cell_type": "code",
   "execution_count": 31,
   "metadata": {},
   "outputs": [
    {
     "name": "stdout",
     "output_type": "stream",
     "text": [
      "🔧 Creating database engine...\n",
      "✅ DATABASE CONNECTION SUCCESSFUL!\n",
      "Status: Connection successful!\n",
      "Connected at: 2025-09-09 21:32:41.292961+00:00\n"
     ]
    }
   ],
   "source": [
    "# Create database engine and test connection\n",
    "print(\"🔧 Creating database engine...\")\n",
    "\n",
    "try:\n",
    "    # Create engine with optimized settings\n",
    "    engine = create_engine(\n",
    "        connection_string,\n",
    "        pool_pre_ping=True,\n",
    "        pool_recycle=300,\n",
    "        echo=False\n",
    "    )\n",
    "    \n",
    "    # Test connection\n",
    "    with engine.connect() as connection:\n",
    "        result = connection.execute(text(\"SELECT 'Connection successful!' as status, current_timestamp as time\"))\n",
    "        row = result.fetchone()\n",
    "        \n",
    "    print(\"✅ DATABASE CONNECTION SUCCESSFUL!\")\n",
    "    print(f\"Status: {row[0]}\")\n",
    "    print(f\"Connected at: {row[1]}\")\n",
    "    \n",
    "except Exception as e:\n",
    "    print(\"❌ DATABASE CONNECTION FAILED!\")\n",
    "    print(f\"Error: {e}\")\n",
    "    print(\"\\n🔧 Check your .env file credentials\")"
   ]
  },
  {
   "cell_type": "code",
   "execution_count": 32,
   "metadata": {},
   "outputs": [
    {
     "name": "stdout",
     "output_type": "stream",
     "text": [
      "📁 Loading and executing SQL file...\n",
      "✅ SQL file loaded (1461 characters)\n",
      "✅ QUERY EXECUTED SUCCESSFULLY!\n",
      "📊 Results: 5434 rows, 3 columns\n",
      "📋 Columns: ['assessment_id', 'sipfacilityapparelpc', 'apparel_pc_count']\n"
     ]
    }
   ],
   "source": [
    "# Execute your SQL file\n",
    "print(\"📁 Loading and executing SQL file...\")\n",
    "\n",
    "try:\n",
    "    # Read SQL file\n",
    "    with open('facility type and pc.sql', 'r') as file:\n",
    "        sql_query = file.read()\n",
    "    \n",
    "    print(f\"✅ SQL file loaded ({len(sql_query)} characters)\")\n",
    "    \n",
    "    # Execute query using manual method\n",
    "    with engine.connect() as connection:\n",
    "        result = connection.execute(text(sql_query))\n",
    "        rows = result.fetchall()\n",
    "        columns = result.keys()\n",
    "        \n",
    "    # Create DataFrame\n",
    "    df_results = pd.DataFrame(rows, columns=columns)\n",
    "    \n",
    "    print(\"✅ QUERY EXECUTED SUCCESSFULLY!\")\n",
    "    print(f\"📊 Results: {df_results.shape[0]} rows, {df_results.shape[1]} columns\")\n",
    "    print(f\"📋 Columns: {list(df_results.columns)}\")\n",
    "    \n",
    "except Exception as e:\n",
    "    print(f\"❌ QUERY EXECUTION FAILED: {e}\")\n",
    "    print(\"\\n🔍 SQL Query content:\")\n",
    "    print(\"=\" * 50)\n",
    "    print(sql_query)\n",
    "    print(\"=\" * 50)"
   ]
  },
  {
   "cell_type": "code",
   "execution_count": 33,
   "metadata": {},
   "outputs": [
    {
     "name": "stdout",
     "output_type": "stream",
     "text": [
      "📊 Dataset Overview:\n",
      "   • Total rows: 5434\n",
      "   • Total columns: 3\n",
      "\n",
      "📋 Column Information:\n",
      "   • assessment_id: object (5434 non-null)\n",
      "   • sipfacilityapparelpc: object (5434 non-null)\n",
      "   • apparel_pc_count: int64 (5434 non-null)\n",
      "\n",
      "📄 First 10 rows:\n",
      "                                    assessment_id  \\\n",
      "0  femsurvey:fffff92a-914f-446f-812f-8141dbe416a6   \n",
      "1  femsurvey:ffff536a-d061-4fbd-84af-bfcaf59ac297   \n",
      "2  femsurvey:fff81b83-f145-404b-aeae-d0bb63b0fa1a   \n",
      "3  femsurvey:fff4757f-0b72-4f89-82cb-771a86980e0f   \n",
      "4  femsurvey:ffe917d7-0bf2-4469-af77-cba73a34e513   \n",
      "5  femsurvey:ffe53b8f-d79c-4480-a52f-92f026b318d2   \n",
      "6  femsurvey:ffba25e8-eaea-486e-9abf-6e362be0f88d   \n",
      "7  femsurvey:ffa679a1-848a-465e-92f3-9d518fbe7633   \n",
      "8  femsurvey:ffa0e74d-2f96-4117-b7ba-46680f7741f4   \n",
      "9  femsurvey:ff8205f1-281f-4d6f-8d69-72e447f694ca   \n",
      "\n",
      "                                sipfacilityapparelpc  apparel_pc_count  \n",
      "0          [Hosiery, Pants, Shirts, Skirts, T-shirt]                 5  \n",
      "1                           [Jackets, Pants, Shirts]                 3  \n",
      "2          [Dresses, Pants, Shirts, Skirts, T-shirt]                 5  \n",
      "3  [Baselayers, Hosiery, Pants, Shirts, T-shirt, ...                 6  \n",
      "4                                           [Shirts]                 1  \n",
      "5                [Dresses, Shirts, Skirts, Sweaters]                 4  \n",
      "6              [Dresses, Leggings & Tights, T-shirt]                 3  \n",
      "7  [Dresses, Pants, Shirts, Skirts, T-shirt, Unde...                 6  \n",
      "8                  [Dresses, Jackets, Pants, Shirts]                 4  \n",
      "9                           [Jackets, Pants, Shirts]                 3  \n",
      "\n",
      "💾 To save results:\n",
      "df_results.to_csv('tier1_results.csv', index=False)\n"
     ]
    }
   ],
   "source": [
    "# Display and analyze results\n",
    "if 'df_results' in locals() and not df_results.empty:\n",
    "    print(\"📊 Dataset Overview:\")\n",
    "    print(f\"   • Total rows: {len(df_results)}\")\n",
    "    print(f\"   • Total columns: {len(df_results.columns)}\")\n",
    "    \n",
    "    print(\"\\n📋 Column Information:\")\n",
    "    for col in df_results.columns:\n",
    "        dtype = df_results[col].dtype\n",
    "        non_null = df_results[col].count()\n",
    "        print(f\"   • {col}: {dtype} ({non_null} non-null)\")\n",
    "    \n",
    "    print(\"\\n📄 First 10 rows:\")\n",
    "    print(df_results.head(10))\n",
    "    \n",
    "    print(\"\\n💾 To save results:\")\n",
    "    print(\"df_results.to_csv('tier1_results.csv', index=False)\")\n",
    "    \n",
    "else:\n",
    "    print(\"❌ No results available. Run the previous cell first.\")"
   ]
  }
 ],
 "metadata": {
  "kernelspec": {
   "display_name": "Tier 1 Analysis",
   "language": "python",
   "name": "tier-1-venv"
  },
  "language_info": {
   "codemirror_mode": {
    "name": "ipython",
    "version": 3
   },
   "file_extension": ".py",
   "mimetype": "text/x-python",
   "name": "python",
   "nbconvert_exporter": "python",
   "pygments_lexer": "ipython3",
   "version": "3.9.0"
  }
 },
 "nbformat": 4,
 "nbformat_minor": 4
}
