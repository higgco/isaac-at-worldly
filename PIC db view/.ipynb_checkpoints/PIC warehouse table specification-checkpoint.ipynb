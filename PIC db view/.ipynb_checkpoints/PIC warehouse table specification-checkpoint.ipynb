{
 "cells": [
  {
   "cell_type": "code",
   "execution_count": null,
   "id": "a4399471-b548-40a3-b90b-5d5334049a66",
   "metadata": {},
   "outputs": [],
   "source": [
    "# Table Creation Query\n",
    "CREATE TABLE pic_fem_linking AS\n",
    "\n",
    "WITH brand AS (\n",
    "    SELECT\n",
    "        account_id,\n",
    "        name,\n",
    "        sac_id AS worldly_id\n",
    "    FROM public.account\n",
    ")\n",
    "\n",
    "SELECT\n",
    "    a.account_id AS supplier_account_id,\n",
    "    a.name AS supplier_name,\n",
    "    a.sac_id AS supplier_worldly_id,\n",
    "    -- pic.product_id,\n",
    "    -- pic.account_id AS brand_account_id,\n",
    "    fem.assessment_id,\n",
    "    fem.rfi_pid,\n",
    "    fem.status,\n",
    "    CASE \n",
    "        WHEN fem.status IN ('ASI', 'NS', 'ASD') THEN 'Not eligible'\n",
    "        ELSE 'Eligible'\n",
    "    END AS status_eligibility,\n",
    "    facility_types.facility_type, -- Extracted facility types as a comma-separated string\n",
    "    CASE\n",
    "        WHEN ((facility_types.facility_type IN ('Finished Product Assembler','Finished Product Processing')\n",
    "    (SELECT STRING_AGG(s.account_id::TEXT, ', ')\n",
    "        FROM public.fem_shares AS s\n",
    "        WHERE s.assessment_id = fem.assessment_id\n",
    "    ) AS brands_shared_with\n",
    "FROM public.fem_simple AS fem\n",
    "LEFT JOIN public.account AS a\n",
    "    ON fem.account_id = a.account_id\n",
    "LEFT JOIN LATERAL (\n",
    "    # -- Unnest the JSON array and then aggregate into a string\n",
    "    SELECT STRING_AGG(value, ', ') AS facility_type\n",
    "    FROM jsonb_array_elements_text(fem.performance -> 'sipfacilitytype') AS value\n",
    ") AS facility_types ON true\n",
    "LIMIT 100"
   ]
  },
  {
   "cell_type": "code",
   "execution_count": null,
   "id": "a7827752-3267-4e59-9a77-edaf52c6ed3b",
   "metadata": {},
   "outputs": [],
   "source": [
    "# worldly_id\n",
    "SELECT sac_id\n",
    "FROM public.account"
   ]
  },
  {
   "cell_type": "code",
   "execution_count": null,
   "id": "b811089b-36f4-4c74-a646-2a50d8307197",
   "metadata": {},
   "outputs": [],
   "source": [
    "# supplier_name\n",
    "SELECT name\n",
    "FROM public.account"
   ]
  },
  {
   "cell_type": "code",
   "execution_count": null,
   "id": "bee2c4b1-f125-44b3-ac06-1cc47e4ead93",
   "metadata": {},
   "outputs": [],
   "source": [
    "# fem_assessment_id\n",
    "SELECT assessment_id\n",
    "FROM public.fem_simple"
   ]
  },
  {
   "cell_type": "code",
   "execution_count": null,
   "id": "1df63b90-222c-4157-b3c0-821721216b57",
   "metadata": {},
   "outputs": [],
   "source": [
    "# fem_status\n",
    "SELECT status\n",
    "FROM public.fem_simple"
   ]
  },
  {
   "cell_type": "code",
   "execution_count": null,
   "id": "2435a9de-b1cb-4303-8f0a-0c929310550d",
   "metadata": {},
   "outputs": [],
   "source": [
    "# facility_type\n",
    "SELECT performance -> 'sipfacilitytype'\n",
    "FROM public.fem_simple"
   ]
  },
  {
   "cell_type": "code",
   "execution_count": null,
   "id": "2fa17205-7630-44b4-aa31-3ebfc4441ad4",
   "metadata": {},
   "outputs": [],
   "source": [
    "# facility_type_eligible\n",
    "CASE WHEN performance -> 'sipfacilitytype' LIKE\n",
    "    '[\"Finished Product Assembler\", \"Finished Product Processing (Product Printing, Product Painting, Product Dyeing, Product Laundering and Product Finishing, Embroidery & Embellishments)]\"\n",
    "    OR LIKE '[\"Finished Product Assembler\"]'\n",
    "    OR LIKE '[\"Finished Product Processing (Product Printing, Product Painting, Product Dyeing, Product Laundering and Product Finishing, Embroidery & Embellishments)\"]' THEN 'Eligible for linking'\n",
    "ELSE 'Ineligible for linking, reported facility type: <INSERT facility_type>'"
   ]
  },
  {
   "cell_type": "code",
   "execution_count": null,
   "id": "5812a90a-48c7-44b5-b39e-c815844dcfdb",
   "metadata": {},
   "outputs": [],
   "source": [
    "# total_facility_normalized_impact\n"
   ]
  }
 ],
 "metadata": {
  "kernelspec": {
   "display_name": "Python [conda env:base] *",
   "language": "python",
   "name": "conda-base-py"
  },
  "language_info": {
   "codemirror_mode": {
    "name": "ipython",
    "version": 3
   },
   "file_extension": ".py",
   "mimetype": "text/x-python",
   "name": "python",
   "nbconvert_exporter": "python",
   "pygments_lexer": "ipython3",
   "version": "3.12.7"
  }
 },
 "nbformat": 4,
 "nbformat_minor": 5
}
